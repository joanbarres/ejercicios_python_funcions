{
 "cells": [
  {
   "cell_type": "markdown",
   "metadata": {},
   "source": [
    "#   Exercicis funcions\n",
    "Este repositori conte varios exercicis de python amb les solucions i explicacions de cadascun:\n",
    "[Repositorio](https://github.com/joanbarres/ejercicios_python_funcions)\n",
    "## Exercici 1\n",
    "### Descripció\n",
    "Crea un programa que determine si un número és primer o no. Hauràs de crear la funció esPrimer()\n",
    "que reba com a paràmetre un número i retorne True o False indicant si el número és primer o no.\n",
    "\n",
    "### Solució"
   ]
  },
  {
   "cell_type": "code",
   "execution_count": 2,
   "metadata": {},
   "outputs": [
    {
     "name": "stdout",
     "output_type": "stream",
     "text": [
      "3 és un número primer.\n"
     ]
    }
   ],
   "source": [
    "def esPrimer(numero):\n",
    "    if numero < 2:\n",
    "        return False\n",
    "    for i in range(2, int(numero ** 0.5) + 1):\n",
    "        if numero % i == 0:\n",
    "            return False\n",
    "    return True\n",
    "\n",
    "# Sol·licitar input a l'usuari\n",
    "numero = int(input(\"Introdueix un número per a verificar si és primer: \"))\n",
    "\n",
    "# Cridar la funció esPrimer() i imprimir el resultat\n",
    "if esPrimer(numero):\n",
    "    print(f\"{numero} és un número primer.\")\n",
    "else:\n",
    "    print(f\"{numero} no és un número primer.\")\n"
   ]
  },
  {
   "cell_type": "markdown",
   "metadata": {},
   "source": [
    "## Exercici 2\n",
    "### Descripció\n",
    "Crea un programa que genere un número aleatori de l’1 al 10. L’usuari haurà d’endevinar-lo, i el\n",
    "programa després de cada intent li indicarà a l’usuari si el número és més alt, baix o si ha encertat. La\n",
    "lògica per a donar la resposta a l’usuari haurà d’estar inclosa en una funció a la qual es cridarà després\n",
    "de cada intent.\n",
    "### Solució"
   ]
  },
  {
   "cell_type": "code",
   "execution_count": 3,
   "metadata": {},
   "outputs": [
    {
     "name": "stdout",
     "output_type": "stream",
     "text": [
      "El número és més baix.\n",
      "El número és més baix.\n",
      "Felicitats! Has encertat el número.\n",
      "Has necessitat 3 intents per encertar.\n"
     ]
    }
   ],
   "source": [
    "from random import randint\n",
    "\n",
    "def comprovaAdivinanza(numero_aleatori, intent):\n",
    "    if intent < numero_aleatori:\n",
    "        return \"El número és més alt.\"\n",
    "    elif intent > numero_aleatori:\n",
    "        return \"El número és més baix.\"\n",
    "    else:\n",
    "        return \"Felicitats! Has encertat el número.\"\n",
    "\n",
    "\n",
    "numero_aleatori = randint(1, 10)\n",
    "\n",
    "intentos = 0\n",
    "\n",
    "while True:\n",
    "\n",
    "    intent = int(input(\"Endevina el número (entre 1 i 10): \"))\n",
    "\n",
    "    intentos += 1\n",
    "\n",
    "    resultado = comprovaAdivinanza(numero_aleatori, intent)\n",
    "    print(resultado)\n",
    "\n",
    "\n",
    "    if intent == numero_aleatori:\n",
    "        print(f\"Has necessitat {intentos} intents per encertar.\")\n",
    "        break\n"
   ]
  },
  {
   "cell_type": "markdown",
   "metadata": {},
   "source": [
    "## Exercici 3\n",
    "### Descripció\n",
    "Crea un programa que reba un número de l’1 al 20 introduït per l’usuari i comprove si està dins de la\n",
    "següent llista: [6,14,11,3,2,1,15,19]. Implementa una funció que s’assegure que el número\n",
    "introduït per l’usuari està en el rang indicat i una altra que comprove si està dins de la llista. Tracta de\n",
    "crear les funcions de manera que puguen ser reutilitzades el màxim possible en altres programes.\n",
    "### Solució"
   ]
  },
  {
   "cell_type": "code",
   "execution_count": null,
   "metadata": {},
   "outputs": [],
   "source": [
    "def comprovaRango(numero, rangInferior, rangSuperior):\n",
    "    if numero < rangSuperior and numero > rangInferior:\n",
    "        return True\n",
    "    else:\n",
    "        return False\n",
    "\n",
    "def comprovaLlista(numero, llista):\n",
    "    if numero in llista:\n",
    "        return True\n",
    "    else:\n",
    "        return False\n",
    "    \n",
    "llista = [6,14,11,3,2,1,15,19]\n",
    "rangSup = 20\n",
    "rangInf = 0\n",
    "\n",
    "while True:\n",
    "\n",
    "    numeroUsuari= int(input(f\"Introdueix un número entre {rangInf} i {rangSup}: \"))\n",
    "    if comprovaRango(numeroUsuari, rangInf, rangSup):\n",
    "        break\n",
    "    else:\n",
    "        print(\"El número està fora del rang. \")\n",
    "\n",
    "if comprovaLlista(numeroUsuari, llista):\n",
    "    print(\"El numero esta en la llista\")\n",
    "else:\n",
    "    print(\"El numero no esta en la llista\")"
   ]
  }
 ],
 "metadata": {
  "kernelspec": {
   "display_name": "Python 3",
   "language": "python",
   "name": "python3"
  },
  "language_info": {
   "codemirror_mode": {
    "name": "ipython",
    "version": 3
   },
   "file_extension": ".py",
   "mimetype": "text/x-python",
   "name": "python",
   "nbconvert_exporter": "python",
   "pygments_lexer": "ipython3",
   "version": "3.11.5"
  }
 },
 "nbformat": 4,
 "nbformat_minor": 2
}
